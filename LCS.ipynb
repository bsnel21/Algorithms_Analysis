{
 "cells": [
  {
   "cell_type": "markdown",
   "metadata": {},
   "source": [
    "# Longest Common Subsequence"
   ]
  },
  {
   "cell_type": "markdown",
   "metadata": {},
   "source": [
    "##### Brute Force"
   ]
  },
  {
   "cell_type": "code",
   "execution_count": 73,
   "metadata": {},
   "outputs": [],
   "source": [
    "def LCSbrute(X,Y,i,j):\n",
    "    if (i==-1 or j == -1):\n",
    "        return 0\n",
    "    elif (X[i]==Y[j]):\n",
    "        return 1 + LCSbrute(X,Y,i-1,j-1)\n",
    "    return max(LCSbrute(X,Y,i-1,j), LCSbrute(X,Y,i,j-1))"
   ]
  },
  {
   "cell_type": "code",
   "execution_count": 21,
   "metadata": {},
   "outputs": [],
   "source": [
    "import random\n",
    "import string\n",
    "import time"
   ]
  },
  {
   "cell_type": "code",
   "execution_count": 230,
   "metadata": {},
   "outputs": [],
   "source": [
    "X = []\n",
    "Y = []\n",
    "\n",
    "for i in range(0,10):\n",
    "    x = random.choice(string.ascii_lowercase)\n",
    "    X.append(x)\n",
    "    y = random.choice(string.ascii_lowercase)\n",
    "    Y.append(y)\n",
    "    \n",
    "i = len(X)-1\n",
    "j = len(Y)-1\n"
   ]
  },
  {
   "cell_type": "code",
   "execution_count": 231,
   "metadata": {},
   "outputs": [
    {
     "name": "stdout",
     "output_type": "stream",
     "text": [
      "3\n",
      "--- 0.05050516128540039 seconds ---\n",
      "['p', 'o', 'o', 'i', 'p', 'l', 'm', 'r', 'y', 'j']\n",
      "['o', 'p', 'b', 'c', 'b', 'h', 'm', 'z', 'n', 'n']\n"
     ]
    }
   ],
   "source": [
    "start_time = time.time()\n",
    "print(LCSbrute(X,Y,i,j))\n",
    "print(\"--- %s seconds ---\" % (time.time() - start_time))\n",
    "print(X)\n",
    "print(Y)"
   ]
  },
  {
   "cell_type": "markdown",
   "metadata": {},
   "source": [
    "##### Dynamic Programming\n"
   ]
  },
  {
   "cell_type": "code",
   "execution_count": 185,
   "metadata": {},
   "outputs": [],
   "source": [
    "def LCS_length(X,Y,m,n):\n",
    "    b =[[0 for q in range(m)] for r in range(n)]\n",
    "    c = [[0 for q in range(m)] for r in range(n)]\n",
    "    for i in range(m):\n",
    "        for j in range(n):\n",
    "            if X[i] == Y[j]:\n",
    "                c[i][j] = c[i-1][j-1]+1\n",
    "                b[i][j] = \"D\"\n",
    "                #print(c[i])\n",
    "            elif c[i-1][j] >= c[i][j-1]:\n",
    "                c[i][j]=c[i-1][j]\n",
    "                b[i][j]=\"U\"\n",
    "            else: \n",
    "                c[i][j]=c[i][j-1]\n",
    "                b[i][j]=\"L\"\n",
    "    return c,b"
   ]
  },
  {
   "cell_type": "code",
   "execution_count": 226,
   "metadata": {},
   "outputs": [],
   "source": [
    "A = []\n",
    "B = []\n",
    "\n",
    "for i in range(0,5):\n",
    "    x = random.choice(string.ascii_lowercase)\n",
    "    A.append(x)\n",
    "    y = random.choice(string.ascii_lowercase)\n",
    "    B.append(y)\n",
    "    \n",
    "i = len(A)\n",
    "j = len(B)"
   ]
  },
  {
   "cell_type": "code",
   "execution_count": 227,
   "metadata": {},
   "outputs": [
    {
     "name": "stdout",
     "output_type": "stream",
     "text": [
      "['y', 'q', 'j', 'g', 'z']\n",
      "['p', 'x', 'j', 'p', 'a']\n"
     ]
    },
    {
     "data": {
      "text/plain": [
       "([[0, 0, 0, 0, 0],\n",
       "  [0, 0, 0, 0, 0],\n",
       "  [0, 0, 1, 1, 1],\n",
       "  [0, 0, 1, 1, 1],\n",
       "  [0, 0, 1, 1, 1]],\n",
       " [['U', 'U', 'U', 'U', 'U'],\n",
       "  ['U', 'U', 'U', 'U', 'U'],\n",
       "  ['U', 'U', 'D', 'L', 'L'],\n",
       "  ['U', 'U', 'U', 'U', 'U'],\n",
       "  ['U', 'U', 'U', 'U', 'U']])"
      ]
     },
     "execution_count": 227,
     "metadata": {},
     "output_type": "execute_result"
    }
   ],
   "source": [
    "print(A)\n",
    "print(B)\n",
    "LCS_length(A,B, i,j)"
   ]
  },
  {
   "cell_type": "code",
   "execution_count": 204,
   "metadata": {},
   "outputs": [],
   "source": [
    "def print_LCS(b,X,i,j):\n",
    "    if i==-1 or j ==-1:\n",
    "        return\n",
    "    if b[i][j]==\"D\":\n",
    "        print_LCS(b,X,i-1,j-1)\n",
    "        print(X[i])\n",
    "    elif b[i][j] == \"U\":\n",
    "        print_LCS(b,X,i-1,j)\n",
    "    else:\n",
    "        print_LCS(b,X,i,j-1)\n",
    "     \n",
    "        "
   ]
  },
  {
   "cell_type": "code",
   "execution_count": 229,
   "metadata": {},
   "outputs": [
    {
     "name": "stdout",
     "output_type": "stream",
     "text": [
      "j\n"
     ]
    }
   ],
   "source": [
    "print_LCS([['U', 'U', 'U', 'U', 'U'],\n",
    "  ['U', 'U', 'U', 'U', 'U'],\n",
    "  ['U', 'U', 'D', 'L', 'L'],\n",
    "  ['U', 'U', 'U', 'U', 'U'],\n",
    "  ['U', 'U', 'U', 'U', 'U']],A,i-1,j-1)"
   ]
  },
  {
   "cell_type": "code",
   "execution_count": null,
   "metadata": {},
   "outputs": [],
   "source": []
  }
 ],
 "metadata": {
  "kernelspec": {
   "display_name": "Python 3",
   "language": "python",
   "name": "python3"
  },
  "language_info": {
   "codemirror_mode": {
    "name": "ipython",
    "version": 3
   },
   "file_extension": ".py",
   "mimetype": "text/x-python",
   "name": "python",
   "nbconvert_exporter": "python",
   "pygments_lexer": "ipython3",
   "version": "3.6.7"
  }
 },
 "nbformat": 4,
 "nbformat_minor": 2
}
