{
 "cells": [
  {
   "cell_type": "markdown",
   "metadata": {},
   "source": [
    "# Heap Sort"
   ]
  },
  {
   "cell_type": "code",
   "execution_count": 7,
   "metadata": {},
   "outputs": [],
   "source": [
    "import random\n",
    "import time\n",
    "A = []\n",
    "\n",
    "for i in range(0,10):\n",
    "    x = random.randint(1,100)\n",
    "    A.append(x)\n"
   ]
  },
  {
   "cell_type": "code",
   "execution_count": 8,
   "metadata": {},
   "outputs": [],
   "source": [
    "def swap(i, j):                    \n",
    "    A[i], A[j] = A[j], A[i] \n",
    "\n",
    "def maxHeapify(n,i):   \n",
    "    l = 2 * i + 1  \n",
    "    r = 2 * (i + 1)   \n",
    "    largest = i   \n",
    "    if l < n and A[l] > A[i]:   \n",
    "        largest = l   \n",
    "    if r < n and A[r] > A[largest]:   \n",
    "        largest = r   \n",
    "    if largest != i:   \n",
    "        swap(i, largest)   \n",
    "        maxHeapify(n, largest)   \n",
    "\n",
    "def heap_sort():     \n",
    "    n = len(A)   \n",
    "    start = n // 2 - 1 #Build Max Heap\n",
    "    for i in range(start, -1, -1):   \n",
    "        maxHeapify(n, i)   \n",
    "    for i in range(n-1, 0, -1):   \n",
    "        swap(i, 0)   \n",
    "        maxHeapify(i, 0)   \n",
    "\n",
    "\n"
   ]
  },
  {
   "cell_type": "code",
   "execution_count": 9,
   "metadata": {},
   "outputs": [
    {
     "name": "stdout",
     "output_type": "stream",
     "text": [
      "[28, 10, 81, 82, 64, 48, 29, 7, 91, 70]\n",
      "[7, 10, 28, 29, 48, 64, 70, 81, 82, 91]\n",
      "--- 0.0011749267578125 seconds ---\n"
     ]
    }
   ],
   "source": [
    "print(A)\n",
    "start_time = time.time()\n",
    "heap_sort()\n",
    "print(A)\n",
    "print(\"--- %s seconds ---\" % (time.time() - start_time))"
   ]
  },
  {
   "cell_type": "markdown",
   "metadata": {},
   "source": [
    "# Quick Sort"
   ]
  },
  {
   "cell_type": "code",
   "execution_count": 10,
   "metadata": {},
   "outputs": [],
   "source": [
    "A = []\n",
    "\n",
    "for i in range(0,10):\n",
    "    x = random.randint(1,100)\n",
    "    A.append(x)"
   ]
  },
  {
   "cell_type": "code",
   "execution_count": 11,
   "metadata": {},
   "outputs": [],
   "source": [
    "def quickSort(A):\n",
    "    quickSort2(A,0,len(A)-1) \n",
    "    \n",
    "def quickSort2(A,p,r):\n",
    "    if (p < r):\n",
    "        q = partition(A, p, r) \n",
    "        quickSort2(A, p, q -1) \n",
    "        quickSort2(A, q+1, r) \n",
    "        \n",
    "def getPivot(A, p, r):\n",
    "    mid = (r + p) // 2\n",
    "    pivot = r\n",
    "    if A[p] < A[mid]:\n",
    "        if A[mid] < A[r]:\n",
    "            pivot = mid\n",
    "    elif A[p] < A[r]:\n",
    "        pivot = p\n",
    "    return pivot          #Returns the index\n",
    "\n",
    "def partition(A, p, r):\n",
    "    #pivotIndex = getPivot(A, p, r)\n",
    "    x = A[r]\n",
    "    A[r], A[p] = A[p], A[r]\n",
    "    j = p\n",
    "    \n",
    "    for i in range(p, r+1):\n",
    "        if A[i] < x:\n",
    "            j += 1\n",
    "            A[i], A[j] = A[j], A[i]\n",
    "    A[p], A[j] = A[j], A[p]\n",
    "    return j\n",
    "\n"
   ]
  },
  {
   "cell_type": "code",
   "execution_count": 12,
   "metadata": {},
   "outputs": [
    {
     "name": "stdout",
     "output_type": "stream",
     "text": [
      "[56, 31, 90, 30, 30, 97, 26, 8, 51, 23]\n",
      "[8, 23, 26, 30, 30, 31, 51, 56, 90, 97]\n",
      "--- 0.00012612342834472656 seconds ---\n"
     ]
    }
   ],
   "source": [
    "print(A)\n",
    "start_time = time.time()\n",
    "quickSort(A)\n",
    "print(A)\n",
    "\n",
    "\n",
    "print(\"--- %s seconds ---\" % (time.time() - start_time))\n"
   ]
  }
 ],
 "metadata": {
  "kernelspec": {
   "display_name": "Python 3",
   "language": "python",
   "name": "python3"
  },
  "language_info": {
   "codemirror_mode": {
    "name": "ipython",
    "version": 3
   },
   "file_extension": ".py",
   "mimetype": "text/x-python",
   "name": "python",
   "nbconvert_exporter": "python",
   "pygments_lexer": "ipython3",
   "version": "3.6.7"
  }
 },
 "nbformat": 4,
 "nbformat_minor": 2
}
